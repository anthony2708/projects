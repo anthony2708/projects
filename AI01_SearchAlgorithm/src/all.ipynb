{
 "cells": [
  {
   "cell_type": "markdown",
   "metadata": {},
   "source": [
    "# Project AI: Search Algorithms"
   ]
  },
  {
   "cell_type": "markdown",
   "metadata": {},
   "source": [
    "- Họ và tên: Bùi Lê Tuấn Anh\n",
    "- MSSV: 19120163"
   ]
  },
  {
   "cell_type": "markdown",
   "metadata": {},
   "source": [
    "Các bước thực hiện như sau"
   ]
  },
  {
   "cell_type": "markdown",
   "metadata": {},
   "source": [
    "## 0. Thêm các thư viện cần thiết"
   ]
  },
  {
   "cell_type": "code",
   "execution_count": null,
   "metadata": {},
   "outputs": [],
   "source": [
    "import os\n",
    "import sys\n",
    "import matplotlib.pyplot as plt\n",
    "from math import *"
   ]
  },
  {
   "cell_type": "markdown",
   "metadata": {},
   "source": [
    "## 1. Viết hàm xây dựng bản đồ"
   ]
  },
  {
   "cell_type": "code",
   "execution_count": null,
   "metadata": {},
   "outputs": [],
   "source": [
    "# File này chỉ chạy 1 lần duy nhất, toàn bộ bản đồ sẽ được in rõ\n",
    "\n",
    "with open('../test/maze01.txt', 'w') as outfile:\n",
    "    outfile.write('0\\n')\n",
    "    outfile.write('xxxxxxxxxxxxxxxxxxxxxx\\n')\n",
    "    outfile.write('x   x   xx xx        x\\n')\n",
    "    outfile.write('x     x     xxxxxxxxxx\\n')\n",
    "    outfile.write('x x    xx  xxxx xxx xx\\n')\n",
    "    outfile.write('  x   x x xx   xxxx  x\\n')\n",
    "    outfile.write('x          xx  xx  x x\\n')\n",
    "    outfile.write('xxxxxxx x      xx  x x\\n')\n",
    "    outfile.write('xxxxxxxxx  x x  xx   x\\n')\n",
    "    outfile.write('x          x x Sx x  x\\n')\n",
    "    outfile.write('xxxxx x  x x x     x x\\n')\n",
    "    outfile.write('xxxxxxxxxxxxxxxxxxxxxx')\n",
    "\n",
    "\n",
    "with open('../test/maze02.txt', 'w') as outfile:\n",
    "    outfile.write('0\\n')\n",
    "    outfile.write('xxxxxxxxxxxxxxxxxxxxxx\\n')\n",
    "    outfile.write('x   x   xx xx        x\\n')\n",
    "    outfile.write('x     x     xxx xxxxxx\\n')\n",
    "    outfile.write('x x     x  xxx  xxx xx\\n')\n",
    "    outfile.write('  x   x x xx   xxxx  x\\n')\n",
    "    outfile.write('x       x  xx  xx  x x\\n')\n",
    "    outfile.write('xxxxxxx x      xx  x x\\n')\n",
    "    outfile.write('xxxxxxxxx  x x  xx   x\\n')\n",
    "    outfile.write('x          x x Sx x  x\\n')\n",
    "    outfile.write('xxxxx x  x x x       x\\n')\n",
    "    outfile.write('xxxxxxxxxxxxxxxxxxxxxx')\n",
    "\n",
    "with open('../test/maze03.txt', 'w') as outfile:\n",
    "    outfile.write('0\\n')\n",
    "    outfile.write('xxxxxxxxxxxxxxxxxxxxxxxxxxxxxxxxxxx\\n')\n",
    "    outfile.write('x   x   xx xx         x           x\\n')\n",
    "    outfile.write('x     x     xxx xxxxx x           x\\n')\n",
    "    outfile.write('x x     x  xxx  xxxxxxxxxxxxxxxx  x\\n')\n",
    "    outfile.write('  x   x x xx   xxxx   x           x\\n')\n",
    "    outfile.write('x       x  xx  xx  x  x    xxxxx xx\\n')\n",
    "    outfile.write('xxxxxxx x      xx  x              x\\n')\n",
    "    outfile.write('xxxxxxxxx  x x  xxxxxxxxxxxxxxxx xx\\n')\n",
    "    outfile.write('x          x x  x x    x    x     x\\n')\n",
    "    outfile.write('xxxxx x  x x x         x    x   S x\\n')\n",
    "    outfile.write('xxxxxxx x      xx  xxxxxxxxxx     x\\n')\n",
    "    outfile.write('xxxxxxxxx  x x  xx                x\\n')\n",
    "    outfile.write('x          x x  x x     xxxxx     x\\n')\n",
    "    outfile.write('xxxxx x  x x x               xxxx x\\n')\n",
    "    outfile.write('xxxxxxxxxxxxxxxxxxxxxxxxxxxxxxxxxxx')\n",
    "\n",
    "with open('../test/maze04.txt', 'w') as outfile:\n",
    "    outfile.write('0\\n')\n",
    "    outfile.write('xxxxxxxxxxxxxxxxxxxxxx\\n')\n",
    "    outfile.write('x   x   xx xx       Sx\\n')\n",
    "    outfile.write('x     x     xxx xxxxxx\\n')\n",
    "    outfile.write('x x     x  xxx  xxx xx\\n')\n",
    "    outfile.write('x x   x x xx   xxxx  x\\n')\n",
    "    outfile.write('x       x  xx  xx  x x\\n')\n",
    "    outfile.write('xxxxxxx x      xx  x x\\n')\n",
    "    outfile.write('xxxxxxxxx  x x  xx   x\\n')\n",
    "    outfile.write('           x x  x x  x\\n')\n",
    "    outfile.write('xxxxx x  x x x       x\\n')\n",
    "    outfile.write('xxxxxxxxxxxxxxxxxxxxxx')\n",
    "\n",
    "with open('../test/maze05.txt', 'w') as outfile:\n",
    "    outfile.write('0\\n')\n",
    "    outfile.write('xxxxxxxxxxxxxxxxxxxxxxxxx\\n')\n",
    "    outfile.write('x   x   xx xxS          x\\n')\n",
    "    outfile.write('x     x     xxxxxxxxx xxx\\n')\n",
    "    outfile.write('x x     x  xxx  xxx x   x\\n')\n",
    "    outfile.write('x x   x x xx   xxxx     x\\n')\n",
    "    outfile.write('x       x  xx  xx  x    x\\n')\n",
    "    outfile.write('  xxxxx x      xx  x    x\\n')\n",
    "    outfile.write('xxxxxxxxx  x x  xx x    x\\n')\n",
    "    outfile.write('x          x x  x x     x\\n')\n",
    "    outfile.write('xxxxx x  x x x          x\\n')\n",
    "    outfile.write('xxxxxxxxxxxxxxxxxxxxxxxxx')\n",
    "\n",
    "with open('../test/maze06.txt', 'w') as outfile:\n",
    "    outfile.write('2\\n')\n",
    "    outfile.write('3 6 -3\\n')\n",
    "    outfile.write('5 14 -1\\n')\n",
    "    outfile.write('xxxxxxxxxxxxxxxxxxxxxx\\n')\n",
    "    outfile.write('x   x   xx xx        x\\n')\n",
    "    outfile.write('x     x     xxxxxxxxxx\\n')\n",
    "    outfile.write('x x   +xx  xxxx xxx xx\\n')\n",
    "    outfile.write('  x   x x xx   xxxx  x\\n')\n",
    "    outfile.write('x          xx +xx  x x\\n')\n",
    "    outfile.write('xxxxxxx x      xx  x x\\n')\n",
    "    outfile.write('xxxxxxxxx  x x  xx   x\\n')\n",
    "    outfile.write('x          x x Sx x  x\\n')\n",
    "    outfile.write('xxxxx x  x x x     x x\\n')\n",
    "    outfile.write('xxxxxxxxxxxxxxxxxxxxxx')\n",
    "\n",
    "with open('../test/maze07.txt', 'w') as outfile:\n",
    "    outfile.write('5\\n')\n",
    "    outfile.write('2 2 -2\\n')\n",
    "    outfile.write('5 4 -2\\n')\n",
    "    outfile.write('5 10 -3\\n')\n",
    "    outfile.write('4 19 -2\\n')\n",
    "    outfile.write('9 21 -1\\n')\n",
    "    outfile.write('xxxxxxxxxxxxxxxxxxxxxxxxx\\n')\n",
    "    outfile.write('x   x   xx xxS          x\\n')\n",
    "    outfile.write('x +   x     xxxxxxxxx xxx\\n')\n",
    "    outfile.write('x x     x  xxx  xxx x   x\\n')\n",
    "    outfile.write('x x   x x xx   xxxx+    x\\n')\n",
    "    outfile.write('x   +   x +xx  xx  x    x\\n')\n",
    "    outfile.write('  xxxxx x      xx  x    x\\n')\n",
    "    outfile.write('xxxxxxxxx  x x  xx x    x\\n')\n",
    "    outfile.write('x          x x  x x     x\\n')\n",
    "    outfile.write('xxxxx x  x x x       +  x\\n')\n",
    "    outfile.write('xxxxxxxxxxxxxxxxxxxxxxxxx')\n",
    "\n",
    "with open('../test/maze08.txt', 'w') as outfile:\n",
    "    outfile.write('10\\n')\n",
    "    outfile.write('2 2 -2\\n')\n",
    "    outfile.write('3 3 -1\\n')\n",
    "    outfile.write('8 6 -1\\n')\n",
    "    outfile.write('6 7 -3\\n')\n",
    "    outfile.write('9 10 -1\\n')\n",
    "    outfile.write('9 19 -2\\n')\n",
    "    outfile.write('13 23 -3\\n')\n",
    "    outfile.write('6 24 -1\\n')\n",
    "    outfile.write('1 29 -2\\n')\n",
    "    outfile.write('8 29 -2\\n')\n",
    "    outfile.write('xxxxxxxxxxxxxxxxxxxxxxxxxxxxxxxxxxx\\n')\n",
    "    outfile.write('x   x   xx xx         x      +    x\\n')\n",
    "    outfile.write('x +   x     xxx xxxxx x           x\\n')\n",
    "    outfile.write('x x+    x  xxx  xxxxxxxxxxxxxxxx  x\\n')\n",
    "    outfile.write('  x   x x xx   xxxx   x           x\\n')\n",
    "    outfile.write('x       x  xx  xx  x  x    xxxxx xx\\n')\n",
    "    outfile.write('xxxxxxx+x      xx  x    +         x\\n')\n",
    "    outfile.write('xxxxxxxxx  x x  xxxxxxxxxxxxxxxx xx\\n')\n",
    "    outfile.write('x     +    x x  x x    x    x+    x\\n')\n",
    "    outfile.write('xxxxx x  x+x x     +   x    x   S x\\n')\n",
    "    outfile.write('xxxxxxx x      xx  xxxxxxxxxx     x\\n')\n",
    "    outfile.write('xxxxxxxxx  x x  xx                x\\n')\n",
    "    outfile.write('x          x x  x x     xxxxx     x\\n')\n",
    "    outfile.write('xxxxx x  x x x         +     xxxx x\\n')\n",
    "    outfile.write('xxxxxxxxxxxxxxxxxxxxxxxxxxxxxxxxxxx')\n"
   ]
  },
  {
   "cell_type": "markdown",
   "metadata": {},
   "source": [
    "## 2. Xây dựng các hàm xử lý bản đồ"
   ]
  },
  {
   "cell_type": "code",
   "execution_count": null,
   "metadata": {},
   "outputs": [],
   "source": [
    "def visualize_maze(matrix, bonus, start, end, route=None):\n",
    "    \"\"\"\n",
    "   Args:\n",
    "     1. matrix: The matrix read from the input file,\n",
    "     2. bonus: The array of bonus points,\n",
    "     3. start, end: The starting and ending points,\n",
    "     4. route: The route from the starting point to the ending one, defined by\n",
    "     an array of (x, y), e.g. route = [(1, 2), (1, 3), (1, 4)]\n",
    "   \"\"\"\n",
    "    # 1. Define walls and array of direction based on the route\n",
    "    walls = [(i, j) for i in range(len(matrix))\n",
    "             for j in range(len(matrix[0])) if matrix[i][j] == 'x']\n",
    "\n",
    "    if route:\n",
    "        direction = []\n",
    "        for i in range(1, len(route)):\n",
    "            if route[i][0]-route[i-1][0] > 0:\n",
    "                direction.append('v')  # ^\n",
    "            elif route[i][0]-route[i-1][0] < 0:\n",
    "                direction.append('^')  # v\n",
    "            elif route[i][1]-route[i-1][1] > 0:\n",
    "                direction.append('>')\n",
    "            else:\n",
    "                direction.append('<')\n",
    "        direction.pop(0)\n",
    "\n",
    "    # 2. Drawing the map\n",
    "    ax = plt.figure(dpi=100).add_subplot(111)\n",
    "    for i in ['top', 'bottom', 'right', 'left']:\n",
    "        ax.spines[i].set_visible(False)\n",
    "\n",
    "    plt.scatter([i[1] for i in walls], [-i[0]\n",
    "                for i in walls], marker='X', s=100, color='black')\n",
    "\n",
    "    plt.scatter([i[1] for i in bonus], [-i[0]\n",
    "                for i in bonus], marker='P', s=100, color='green')\n",
    "\n",
    "    plt.scatter(start[1], -start[0], marker='*', s=100, color='gold')\n",
    "\n",
    "    if route:\n",
    "        for i in range(len(route)-2):\n",
    "            plt.scatter(route[i+1][1], -route[i+1][0],\n",
    "                        marker=direction[i], color='silver')\n",
    "\n",
    "    plt.text(end[1], -end[0], 'EXIT', color='red',\n",
    "             horizontalalignment='center', verticalalignment='center')\n",
    "\n",
    "    # For better display on the map\n",
    "    # plt.scatter(end[1], -end[0], marker='O', s=100, color='red')\n",
    "\n",
    "    plt.xticks([])\n",
    "    plt.yticks([])\n",
    "    plt.show()\n",
    "\n",
    "    print(f'Starting point (x, y) = {start[0], start[1]}')\n",
    "    print(f'Ending point (x, y) = {end[0], end[1]}')\n",
    "    print(f'The route to go: {route}')\n",
    "\n",
    "    # Sum of bonus points\n",
    "    bonus_point = 0\n",
    "\n",
    "    for _, point in enumerate(bonus):  # Traverse for any bonus points\n",
    "        print(\n",
    "            f'Bonus point at position (x, y) = {point[0], point[1]} with point {point[2]}')\n",
    "\n",
    "    for _, plus in enumerate(route):  # Check for visiting any bonus point\n",
    "        for _, point in enumerate(bonus):\n",
    "            if ({plus[0], plus[1]} == {point[0], point[1]}):\n",
    "                bonus_point += point[2]\n",
    "\n",
    "    # Calculating the length of route\n",
    "    print(f'Length of route = {len(route) - 2 + bonus_point}')"
   ]
  },
  {
   "cell_type": "markdown",
   "metadata": {},
   "source": [
    "## 3. Xây dựng hàm đọc bản đồ"
   ]
  },
  {
   "cell_type": "code",
   "execution_count": null,
   "metadata": {},
   "outputs": [],
   "source": [
    "def readfile(file_name: str = ''):\n",
    "    f = open(file_name, 'r')\n",
    "    n_bonus_points = int(next(f)[:-1])\n",
    "    bonus_points = []\n",
    "    for i in range(n_bonus_points):\n",
    "        x, y, reward = map(int, next(f)[:-1].split(' '))\n",
    "        bonus_points.append((x, y, reward))\n",
    "\n",
    "    text = f.read()\n",
    "    matrix = [list(i) for i in text.splitlines()]\n",
    "    f.close()\n",
    "    return bonus_points, matrix"
   ]
  },
  {
   "cell_type": "markdown",
   "metadata": {},
   "source": [
    "## 4. Xây dựng cơ chế tìm kiếm"
   ]
  },
  {
   "cell_type": "markdown",
   "metadata": {},
   "source": [
    "### a. Hàm tìm các vị trí cận kề"
   ]
  },
  {
   "cell_type": "code",
   "execution_count": null,
   "metadata": {},
   "outputs": [],
   "source": [
    "def find_next(pos, matrix):\n",
    "    next = []\n",
    "    if (pos[0] - 1 >= 0 and matrix[pos[0]-1][pos[1]] != 'x'):\n",
    "        next.append((pos[0]-1, pos[1]))\n",
    "    if (pos[0] + 1 < len(matrix) and matrix[pos[0]+1][pos[1]] != 'x'):\n",
    "        next.append((pos[0]+1, pos[1]))\n",
    "    if (pos[1] + 1 < len(matrix[0]) and matrix[pos[0]][pos[1] + 1] != 'x'):\n",
    "        next.append((pos[0], pos[1] + 1))\n",
    "    if (pos[1] - 1 >= 0 and matrix[pos[0]][pos[1]-1] != 'x'):\n",
    "        next.append((pos[0], pos[1]-1))\n",
    "    return next"
   ]
  },
  {
   "cell_type": "markdown",
   "metadata": {},
   "source": [
    "### b. Hàm tính khoảng cách heuristics"
   ]
  },
  {
   "cell_type": "code",
   "execution_count": null,
   "metadata": {},
   "outputs": [],
   "source": [
    "def heuristic_distance(node, end):\n",
    "    return sqrt((node[0] - end[0])**2 + (node[1] - end[1])**2)"
   ]
  },
  {
   "cell_type": "markdown",
   "metadata": {},
   "source": [
    "### c. Hàm tính khoảng cách heuristics với điểm thưởng"
   ]
  },
  {
   "cell_type": "code",
   "execution_count": null,
   "metadata": {},
   "outputs": [],
   "source": [
    "def heuristic_distance_bonus(node, end, bonus_points):\n",
    "    for _, points in enumerate(bonus_points):\n",
    "        if node == (points[0], points[1]):\n",
    "            return points[2] + sqrt((node[0] - end[0])**2 + (node[1] - end[1])\n",
    "                                    ** 2)\n",
    "    return sqrt((node[0] - end[0])**2 + (node[1] - end[1])**2)"
   ]
  },
  {
   "cell_type": "markdown",
   "metadata": {},
   "source": [
    "### d. Hàm tính khoảng cách thực tế"
   ]
  },
  {
   "cell_type": "code",
   "execution_count": null,
   "metadata": {},
   "outputs": [],
   "source": [
    "def actual_distance(node, start):\n",
    "    return sqrt((node[0] - start[0])**2 + (node[1] - start[1])**2)"
   ]
  },
  {
   "cell_type": "markdown",
   "metadata": {},
   "source": [
    "### e. Các hàm thuật toán tìm kiếm"
   ]
  },
  {
   "cell_type": "markdown",
   "metadata": {},
   "source": [
    "- BFS"
   ]
  },
  {
   "cell_type": "code",
   "execution_count": null,
   "metadata": {},
   "outputs": [],
   "source": [
    "# BFS\n",
    "def BFS(matrix, start, end):\n",
    "    open_list, visited = [start], [start]\n",
    "    closed_list = []\n",
    "    while open_list:\n",
    "        current = open_list.pop(0)\n",
    "        closed_list.append(current)\n",
    "        if current == end:\n",
    "            return closed_list\n",
    "        for neighbor in find_next(current, matrix):\n",
    "            if neighbor not in visited:\n",
    "                open_list.append(neighbor)\n",
    "                visited.append(neighbor)\n",
    "    return None"
   ]
  },
  {
   "cell_type": "markdown",
   "metadata": {},
   "source": [
    "- DFS"
   ]
  },
  {
   "cell_type": "code",
   "execution_count": null,
   "metadata": {},
   "outputs": [],
   "source": [
    "# DFS\n",
    "def DFS(matrix, start, end):\n",
    "    stack, visited = [start], [start]\n",
    "    route = []\n",
    "    while (stack):\n",
    "        n = stack.pop()\n",
    "        route.append(n)\n",
    "        if n == end:\n",
    "            return route\n",
    "        for x in find_next(n, matrix):\n",
    "            if x not in visited:\n",
    "                visited.append(x)\n",
    "                stack.append(x)\n",
    "    return None"
   ]
  },
  {
   "cell_type": "markdown",
   "metadata": {},
   "source": [
    "- Tìm kiếm tham lam"
   ]
  },
  {
   "cell_type": "code",
   "execution_count": null,
   "metadata": {},
   "outputs": [],
   "source": [
    "# Greedy\n",
    "def Greedy(matrix, start, end, bonus_points):\n",
    "    open_list = [start]\n",
    "    closed_list = []\n",
    "    while open_list:\n",
    "        current = open_list.pop(0)\n",
    "        closed_list.append(current)\n",
    "        if current == end:\n",
    "            return closed_list\n",
    "        for neighbor in find_next(current, matrix):\n",
    "            if (neighbor not in closed_list):\n",
    "                open_list.append(neighbor)\n",
    "        open_list.sort(key=lambda x: heuristic_distance_bonus(\n",
    "            x, end, bonus_points))\n",
    "    return None"
   ]
  },
  {
   "cell_type": "markdown",
   "metadata": {},
   "source": [
    "- A*"
   ]
  },
  {
   "cell_type": "code",
   "execution_count": null,
   "metadata": {},
   "outputs": [],
   "source": [
    "# A*\n",
    "def AStar(matrix, start, end):\n",
    "    F, G, camefrom = {}, {}, {}\n",
    "    G[start] = 0\n",
    "    F[start] = heuristic_distance(start, end)\n",
    "    opened, closed = [start], []\n",
    "\n",
    "    while opened:\n",
    "        current, currentF = None, None\n",
    "        for pos in opened:\n",
    "            if current is None or F[pos] < currentF:\n",
    "                currentF = F[pos]\n",
    "                current = pos\n",
    "        if current == end:\n",
    "            route = [current]\n",
    "            while current in camefrom:\n",
    "                current = camefrom[current]\n",
    "                route.append(current)\n",
    "            route.reverse()\n",
    "            return route\n",
    "        opened.remove(current)\n",
    "        closed.append(current)\n",
    "\n",
    "        for neighbor in find_next(current, matrix):\n",
    "            if neighbor in closed:\n",
    "                continue\n",
    "            candidateG = G[current] + actual_distance(current, start)\n",
    "            if neighbor not in opened:\n",
    "                opened.append(neighbor)\n",
    "            elif candidateG >= G[neighbor]:\n",
    "                continue\n",
    "            camefrom[neighbor] = current\n",
    "            G[neighbor] = candidateG\n",
    "            H = heuristic_distance(neighbor, end)\n",
    "            F[neighbor] = G[neighbor] + H\n",
    "    return None"
   ]
  },
  {
   "cell_type": "markdown",
   "metadata": {},
   "source": [
    "## 5. Chạy chương trình"
   ]
  },
  {
   "cell_type": "code",
   "execution_count": null,
   "metadata": {},
   "outputs": [],
   "source": [
    "# Global variables\n",
    "BASE_DIR = os.path.dirname(os.path.realpath(__file__)) + '/..'\n",
    "MAPS_DIR = BASE_DIR + '/test'"
   ]
  },
  {
   "cell_type": "code",
   "execution_count": null,
   "metadata": {},
   "outputs": [],
   "source": [
    "# Usage: python main.py [algorithm] [mazefile]\n",
    "if (len(sys.argv) < 3):\n",
    "    raise SyntaxError('Invalid syntax')\n",
    "else:\n",
    "    algorithm = sys.argv[1].lower()\n",
    "    map_name = sys.argv[2].lower()\n",
    "    try:\n",
    "        bonus_points, matrix = readfile(MAPS_DIR + '/' + map_name)\n",
    "    except FileNotFoundError as e:\n",
    "        print('File not found: ' + map_name)\n",
    "        exit(1)\n",
    "\n",
    "    # Print the information of the matrix\n",
    "    print(f'The height of the matrix: {len(matrix)}')\n",
    "    print(f'The width of the matrix: {len(matrix[0])}')\n",
    "\n",
    "    for i in range(len(matrix)):\n",
    "        for j in range(len(matrix[0])):\n",
    "            if matrix[i][j] == 'S':\n",
    "                start = (i, j)\n",
    "            elif matrix[i][j] == ' ':\n",
    "                if (i == 0) or (i == len(matrix)-1) or (j == 0) or (j == len(matrix[0])-1):\n",
    "                    end = (i, j)\n",
    "            else:\n",
    "                pass\n",
    "\n",
    "    # Check the correct algorithm\n",
    "    if (algorithm == 'dfs'):\n",
    "        route = DFS(matrix, start, end)\n",
    "        pass\n",
    "    elif (algorithm == 'bfs'):\n",
    "        route = BFS(matrix, start, end)\n",
    "        pass\n",
    "    elif (algorithm == 'astar'):\n",
    "        route = AStar(matrix, start, end)\n",
    "        pass\n",
    "    elif (algorithm == 'greedy'):\n",
    "        route = Greedy(matrix, start, end, bonus_points)\n",
    "        pass\n",
    "    else:\n",
    "        print('Wrong algorithm')  # Exit when receiving wrong algorithm\n",
    "        exit(1)\n",
    "\n",
    "    if route is None:  # No route was found\n",
    "        visualize_maze(matrix, bonus_points, start, end)\n",
    "        print('No route to found from starting point to ending point')\n",
    "        exit(2)\n",
    "    else:  # A route is found\n",
    "        visualize_maze(matrix, bonus_points, start, end, route)"
   ]
  }
 ],
 "metadata": {
  "interpreter": {
   "hash": "cf6663ca35ebd57d6121109460e534e72c1e1f8ff142ad985cdcb4b7e585eb79"
  },
  "kernelspec": {
   "display_name": "Python 3.9.0 64-bit",
   "language": "python",
   "name": "python3"
  },
  "language_info": {
   "name": "python",
   "version": "3.9.0"
  },
  "orig_nbformat": 4
 },
 "nbformat": 4,
 "nbformat_minor": 2
}
